{
 "cells": [
  {
   "cell_type": "code",
   "execution_count": 1,
   "metadata": {},
   "outputs": [
    {
     "name": "stdout",
     "output_type": "stream",
     "text": [
      "Addition of two numbers\n",
      "The number 1 is: 20\n"
     ]
    }
   ],
   "source": [
    "print(\"Addition of two numbers\")\n",
    "Num1=20\n",
    "print(\"The number 1 is:\",Num1)"
   ]
  },
  {
   "cell_type": "code",
   "execution_count": 2,
   "metadata": {},
   "outputs": [
    {
     "name": "stdout",
     "output_type": "stream",
     "text": [
      "Additon of two numbers\n",
      "The number1 is: 20\n",
      "The number2 is 30\n"
     ]
    }
   ],
   "source": [
    "print(\"Additon of two numbers\")\n",
    "Num1=20\n",
    "print(\"The number1 is:\", Num1)\n",
    "Num2=30\n",
    "print(\"The number2 is\", Num2)"
   ]
  },
  {
   "cell_type": "code",
   "execution_count": 3,
   "metadata": {},
   "outputs": [
    {
     "name": "stdout",
     "output_type": "stream",
     "text": [
      "Addition of Two Numbers\n",
      "The number1 is: 20\n",
      "The number2 is: 30\n",
      "Addition of Num1 and Num 2: 50\n"
     ]
    }
   ],
   "source": [
    "print(\"Addition of Two Numbers\")\n",
    "Num1=20\n",
    "print(\"The number1 is:\", Num1)\n",
    "Num2=30\n",
    "print(\"The number2 is:\", Num2)\n",
    "Add=Num1+Num2\n",
    "print(\"Addition of Num1 and Num 2:\", Add)"
   ]
  },
  {
   "cell_type": "code",
   "execution_count": 1,
   "metadata": {},
   "outputs": [
    {
     "name": "stdout",
     "output_type": "stream",
     "text": [
      "Your age is: 30\n"
     ]
    }
   ],
   "source": [
    "age=30\n",
    "print(\"Your age is:\", age)"
   ]
  },
  {
   "cell_type": "code",
   "execution_count": 2,
   "metadata": {},
   "outputs": [
    {
     "name": "stdout",
     "output_type": "stream",
     "text": [
      "Addition of two numbers: 70\n"
     ]
    }
   ],
   "source": [
    "num1=30\n",
    "num2=40\n",
    "add=num1+num2\n",
    "print(\"Addition of two numbers:\", add)"
   ]
  },
  {
   "cell_type": "code",
   "execution_count": null,
   "metadata": {},
   "outputs": [],
   "source": []
  }
 ],
 "metadata": {
  "kernelspec": {
   "display_name": "Python 3",
   "language": "python",
   "name": "python3"
  },
  "language_info": {
   "codemirror_mode": {
    "name": "ipython",
    "version": 3
   },
   "file_extension": ".py",
   "mimetype": "text/x-python",
   "name": "python",
   "nbconvert_exporter": "python",
   "pygments_lexer": "ipython3",
   "version": "3.7.4"
  }
 },
 "nbformat": 4,
 "nbformat_minor": 2
}
