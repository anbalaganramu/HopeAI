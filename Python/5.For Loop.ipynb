{
 "cells": [
  {
   "cell_type": "code",
   "execution_count": null,
   "metadata": {},
   "outputs": [],
   "source": [
    "list=[23,35,45,56,89]\n",
    "for temp in list:\n",
    "    print(temp)"
   ]
  },
  {
   "cell_type": "code",
   "execution_count": null,
   "metadata": {},
   "outputs": [],
   "source": [
    "for temp in list:\n",
    "    if(temp<18):\n",
    "        print(\"Children\")\n",
    "    elif(temp<35):\n",
    "        print(\"Adult\")\n",
    "    elif(temp<59):\n",
    "        print(\"Citizen\")\n",
    "    else:\n",
    "        print(\"Senior Citizen\")"
   ]
  },
  {
   "cell_type": "code",
   "execution_count": null,
   "metadata": {},
   "outputs": [],
   "source": [
    "age=[12,26,34,46,89]\n",
    "yAge=int(input(\"Enter your Age:\"))\n",
    "for temp in age:\n",
    "    if(temp<18):\n",
    "        print(\"Children\")\n",
    "    elif(temp<35):\n",
    "        print(\"Adult\")\n",
    "    elif(temp<59):\n",
    "        print(\"Citizen\")\n",
    "    else:\n",
    "        print(\"Senior Citizen\")"
   ]
  },
  {
   "cell_type": "code",
   "execution_count": null,
   "metadata": {},
   "outputs": [],
   "source": [
    "list=[\"A\",\"B\",\"C\",\"D\"]\n",
    "for alpha in list:\n",
    "    print(alpha)"
   ]
  },
  {
   "cell_type": "code",
   "execution_count": null,
   "metadata": {},
   "outputs": [],
   "source": [
    "give=int(input(\"Enter any number:\"))\n",
    "if(give%2==0):\n",
    "    print(\"Given number is Even\")\n",
    "else:\n",
    "    print(\"Given number is Odd\")    "
   ]
  },
  {
   "cell_type": "code",
   "execution_count": null,
   "metadata": {},
   "outputs": [],
   "source": [
    "number=int(input(\"Enter the Number:\"))\n",
    "if(number%2==0):\n",
    "    print(\"Given number is Even\")\n",
    "else:\n",
    "    print(\"Given number is Odd\")"
   ]
  },
  {
   "cell_type": "code",
   "execution_count": null,
   "metadata": {},
   "outputs": [],
   "source": [
    "number=int(input(\"Enter the Number:\"))\n",
    "if(number%2==0):\n",
    "    print(\"Given number is Even\")\n",
    "else:\n",
    "    print(\"Given number is Odd\")\n",
    "    "
   ]
  },
  {
   "cell_type": "code",
   "execution_count": null,
   "metadata": {},
   "outputs": [],
   "source": [
    "number=int(input(\"Enter the Number:\"))\n",
    "if(number%2==0):\n",
    "    print(\"Given number is Even\")\n",
    "else:\n",
    "    print(\"Given number is Odd\")"
   ]
  },
  {
   "cell_type": "code",
   "execution_count": null,
   "metadata": {},
   "outputs": [],
   "source": [
    "num=int(input(\"Enter the Number:\"))\n",
    "if(num%2==0):\n",
    "    print(\"Given number is Even\")\n",
    "else:\n",
    "    print(\"Given number is Odd\")\n",
    "    "
   ]
  },
  {
   "cell_type": "code",
   "execution_count": 1,
   "metadata": {},
   "outputs": [
    {
     "name": "stdout",
     "output_type": "stream",
     "text": [
      "Enter any number:78\n",
      "Welcome\n"
     ]
    }
   ],
   "source": [
    "test=int(input(\"Enter any number:\"))\n",
    "if(test%2==0):\n",
    "    print(\"Welcome\")\n",
    "else:\n",
    "    print(\"Better luck\")\n"
   ]
  },
  {
   "cell_type": "code",
   "execution_count": null,
   "metadata": {},
   "outputs": [],
   "source": []
  }
 ],
 "metadata": {
  "kernelspec": {
   "display_name": "Python 3",
   "language": "python",
   "name": "python3"
  },
  "language_info": {
   "codemirror_mode": {
    "name": "ipython",
    "version": 3
   },
   "file_extension": ".py",
   "mimetype": "text/x-python",
   "name": "python",
   "nbconvert_exporter": "python",
   "pygments_lexer": "ipython3",
   "version": "3.7.4"
  }
 },
 "nbformat": 4,
 "nbformat_minor": 2
}
