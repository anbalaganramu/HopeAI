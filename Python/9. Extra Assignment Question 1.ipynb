{
 "cells": [
  {
   "cell_type": "code",
   "execution_count": 6,
   "metadata": {},
   "outputs": [
    {
     "name": "stdout",
     "output_type": "stream",
     "text": [
      "HOPE AI\n"
     ]
    }
   ],
   "source": [
    "#print statement\n",
    "print(\"HOPE AI\")"
   ]
  },
  {
   "cell_type": "code",
   "execution_count": 7,
   "metadata": {},
   "outputs": [
    {
     "name": "stdout",
     "output_type": "stream",
     "text": [
      "Enter your Institute Name:HOPE AI\n"
     ]
    }
   ],
   "source": [
    "#Buy Input\n",
    "iName=input(\"Enter your Institute Name:\")\n"
   ]
  },
  {
   "cell_type": "code",
   "execution_count": 4,
   "metadata": {},
   "outputs": [
    {
     "name": "stdout",
     "output_type": "stream",
     "text": [
      "Enter your name:Anbalagan R\n",
      "Enter your age:42\n",
      "Enter your school name:Gandhi Primary School\n",
      "Enter your degree:B.Sc Maths\n"
     ]
    }
   ],
   "source": [
    "#Buy Inputs\n",
    "name=input(\"Enter your name:\")\n",
    "age=input(\"Enter your age:\")\n",
    "school=input(\"Enter your school name:\")\n",
    "degree=input(\"Enter your degree:\")"
   ]
  },
  {
   "cell_type": "code",
   "execution_count": 18,
   "metadata": {},
   "outputs": [
    {
     "name": "stdout",
     "output_type": "stream",
     "text": [
      "Enter Number 1:45\n",
      "Enter Number 2:89\n",
      "Number 1= 45\n",
      "Number 2= 89\n",
      "Addition= 134\n"
     ]
    }
   ],
   "source": [
    "#Addition\n",
    "a=int(input(\"Enter Number 1:\"))\n",
    "b=int(input(\"Enter Number 2:\"))\n",
    "add=a+b\n",
    "print(\"Number 1=\",a)\n",
    "print(\"Number 2=\",b)\n",
    "print(\"Addition=\",add)"
   ]
  },
  {
   "cell_type": "code",
   "execution_count": 19,
   "metadata": {},
   "outputs": [
    {
     "name": "stdout",
     "output_type": "stream",
     "text": [
      "Enter Number 1:78\n",
      "Enter Number 2:34\n",
      "Number 1= 78\n",
      "Number 2= 34\n",
      "Subtraction= 44\n"
     ]
    }
   ],
   "source": [
    "#Subtraction\n",
    "a=int(input(\"Enter Number 1:\"))\n",
    "b=int(input(\"Enter Number 2:\"))\n",
    "sub=a-b\n",
    "print(\"Number 1=\",a)\n",
    "print(\"Number 2=\",b)\n",
    "print(\"Subtraction=\",sub)"
   ]
  },
  {
   "cell_type": "code",
   "execution_count": 20,
   "metadata": {},
   "outputs": [
    {
     "name": "stdout",
     "output_type": "stream",
     "text": [
      "Enter Number 1:43\n",
      "Enter Number 2:2\n",
      "Number 1: 43\n",
      "Number 2: 2\n",
      "Multiplication: 86\n"
     ]
    }
   ],
   "source": [
    "#Multiplication\n",
    "a=int(input(\"Enter Number 1:\"))\n",
    "b=int(input(\"Enter Number 2:\"))\n",
    "mul=a*b\n",
    "print(\"Number 1:\",a)\n",
    "print(\"Number 2:\",b)\n",
    "print(\"Multiplication:\",mul)"
   ]
  },
  {
   "cell_type": "code",
   "execution_count": 21,
   "metadata": {},
   "outputs": [
    {
     "name": "stdout",
     "output_type": "stream",
     "text": [
      "Enter Number 1:25\n",
      "Enter Number 2:5\n",
      "Number 1: 25\n",
      "Number 2: 5\n",
      "Float Div: 5.0\n"
     ]
    }
   ],
   "source": [
    "#Division\n",
    "a=int(input(\"Enter Number 1:\"))\n",
    "b=int(input(\"Enter Number 2:\"))\n",
    "division=a/b\n",
    "print(\"Number 1:\",a)\n",
    "print(\"Number 2:\", b)\n",
    "print(\"Float Div:\",division)"
   ]
  },
  {
   "cell_type": "code",
   "execution_count": 22,
   "metadata": {},
   "outputs": [
    {
     "name": "stdout",
     "output_type": "stream",
     "text": [
      "Enter Number 1:10\n",
      "Enter Number 2:3\n",
      "Number 1: 10\n",
      "Number 2: 3\n",
      "Floor Division: 3\n"
     ]
    }
   ],
   "source": [
    "#Floor Division\n",
    "a=int(input(\"Enter Number 1:\"))\n",
    "b=int(input(\"Enter Number 2:\"))\n",
    "fdiv=a//b\n",
    "print(\"Number 1:\",a)\n",
    "print(\"Number 2:\",b)\n",
    "print(\"Floor Division:\",fdiv)"
   ]
  },
  {
   "cell_type": "code",
   "execution_count": 23,
   "metadata": {},
   "outputs": [
    {
     "name": "stdout",
     "output_type": "stream",
     "text": [
      "Enter Number 1:10\n",
      "Enter Number 2:3\n",
      "Number 1: 10\n",
      "Number 2: 3\n",
      "Modulo Division: 1\n"
     ]
    }
   ],
   "source": [
    "#Modulo\n",
    "a=int(input(\"Enter Number 1:\"))\n",
    "b=int(input(\"Enter Number 2:\"))\n",
    "mod=a%b\n",
    "print(\"Number 1:\",a)\n",
    "print(\"Number 2:\",b)\n",
    "print(\"Modulo Division:\",mod)"
   ]
  },
  {
   "cell_type": "code",
   "execution_count": 24,
   "metadata": {},
   "outputs": [
    {
     "name": "stdout",
     "output_type": "stream",
     "text": [
      "Enter Base Number:4\n",
      "Enter Exponent Number4\n",
      "Base Number: 4\n",
      "Exponent Number: 4\n",
      "Power(Base,Exponent): 256\n"
     ]
    }
   ],
   "source": [
    "#Power\n",
    "a=int(input(\"Enter Base Number:\"))\n",
    "b=int(input(\"Enter Exponent Number\"))\n",
    "x=pow(a,b)\n",
    "print(\"Base Number:\",a)\n",
    "print(\"Exponent Number:\",b)\n",
    "print(\"Power(Base,Exponent):\",x)"
   ]
  },
  {
   "cell_type": "code",
   "execution_count": null,
   "metadata": {},
   "outputs": [],
   "source": []
  }
 ],
 "metadata": {
  "kernelspec": {
   "display_name": "Python 3",
   "language": "python",
   "name": "python3"
  },
  "language_info": {
   "codemirror_mode": {
    "name": "ipython",
    "version": 3
   },
   "file_extension": ".py",
   "mimetype": "text/x-python",
   "name": "python",
   "nbconvert_exporter": "python",
   "pygments_lexer": "ipython3",
   "version": "3.7.4"
  }
 },
 "nbformat": 4,
 "nbformat_minor": 2
}
