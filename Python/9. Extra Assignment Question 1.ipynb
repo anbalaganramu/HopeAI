{
 "cells": [
  {
   "cell_type": "code",
   "execution_count": 6,
   "metadata": {},
   "outputs": [
    {
     "name": "stdout",
     "output_type": "stream",
     "text": [
      "HOPE AI\n"
     ]
    }
   ],
   "source": [
    "#print statement\n",
    "print(\"HOPE AI\")"
   ]
  },
  {
   "cell_type": "code",
   "execution_count": 7,
   "metadata": {},
   "outputs": [
    {
     "name": "stdout",
     "output_type": "stream",
     "text": [
      "Enter your Institute Name:HOPE AI\n"
     ]
    }
   ],
   "source": [
    "#Buy Input\n",
    "iName=input(\"Enter your Institute Name:\")\n"
   ]
  },
  {
   "cell_type": "code",
   "execution_count": 4,
   "metadata": {},
   "outputs": [
    {
     "name": "stdout",
     "output_type": "stream",
     "text": [
      "Enter your name:Anbalagan R\n",
      "Enter your age:42\n",
      "Enter your school name:Gandhi Primary School\n",
      "Enter your degree:B.Sc Maths\n"
     ]
    }
   ],
   "source": [
    "#Buy Inputs\n",
    "name=input(\"Enter your name:\")\n",
    "age=input(\"Enter your age:\")\n",
    "school=input(\"Enter your school name:\")\n",
    "degree=input(\"Enter your degree:\")"
   ]
  },
  {
   "cell_type": "code",
   "execution_count": 25,
   "metadata": {},
   "outputs": [
    {
     "name": "stdout",
     "output_type": "stream",
     "text": [
      "Enter Number 1:23\n",
      "Enter Number 2:45\n",
      "Addition= 68\n"
     ]
    }
   ],
   "source": [
    "#Addition\n",
    "a=int(input(\"Enter Number 1:\"))\n",
    "b=int(input(\"Enter Number 2:\"))\n",
    "add=a+b\n",
    "print(\"Addition=\",add)"
   ]
  },
  {
   "cell_type": "code",
   "execution_count": 26,
   "metadata": {},
   "outputs": [
    {
     "name": "stdout",
     "output_type": "stream",
     "text": [
      "Enter Number 1:45\n",
      "Enter Number 2:23\n",
      "Subtraction= 22\n"
     ]
    }
   ],
   "source": [
    "#Subtraction\n",
    "a=int(input(\"Enter Number 1:\"))\n",
    "b=int(input(\"Enter Number 2:\"))\n",
    "sub=a-b\n",
    "print(\"Subtraction=\",sub)"
   ]
  },
  {
   "cell_type": "code",
   "execution_count": 27,
   "metadata": {},
   "outputs": [
    {
     "name": "stdout",
     "output_type": "stream",
     "text": [
      "Enter Number 1:34\n",
      "Enter Number 2:23\n",
      "Multiplication: 782\n"
     ]
    }
   ],
   "source": [
    "#Multiplication\n",
    "a=int(input(\"Enter Number 1:\"))\n",
    "b=int(input(\"Enter Number 2:\"))\n",
    "mul=a*b\n",
    "print(\"Multiplication:\",mul)"
   ]
  },
  {
   "cell_type": "code",
   "execution_count": 28,
   "metadata": {},
   "outputs": [
    {
     "name": "stdout",
     "output_type": "stream",
     "text": [
      "Enter Number 1:30\n",
      "Enter Number 2:3\n",
      "Float Div: 10.0\n"
     ]
    }
   ],
   "source": [
    "#Division\n",
    "a=int(input(\"Enter Number 1:\"))\n",
    "b=int(input(\"Enter Number 2:\"))\n",
    "division=a/b\n",
    "print(\"Float Div:\",division)"
   ]
  },
  {
   "cell_type": "code",
   "execution_count": 29,
   "metadata": {},
   "outputs": [
    {
     "name": "stdout",
     "output_type": "stream",
     "text": [
      "Enter Number 1:30\n",
      "Enter Number 2:3\n",
      "Floor Division: 10\n"
     ]
    }
   ],
   "source": [
    "#Floor Division\n",
    "a=int(input(\"Enter Number 1:\"))\n",
    "b=int(input(\"Enter Number 2:\"))\n",
    "fdiv=a//b\n",
    "print(\"Floor Division:\",fdiv)"
   ]
  },
  {
   "cell_type": "code",
   "execution_count": 30,
   "metadata": {},
   "outputs": [
    {
     "name": "stdout",
     "output_type": "stream",
     "text": [
      "Enter Number 1:23\n",
      "Enter Number 2:5\n",
      "Modulo Division: 3\n"
     ]
    }
   ],
   "source": [
    "#Modulo\n",
    "a=int(input(\"Enter Number 1:\"))\n",
    "b=int(input(\"Enter Number 2:\"))\n",
    "mod=a%b\n",
    "print(\"Modulo Division:\",mod)"
   ]
  },
  {
   "cell_type": "code",
   "execution_count": 32,
   "metadata": {},
   "outputs": [
    {
     "name": "stdout",
     "output_type": "stream",
     "text": [
      "Enter Base Number:4\n",
      "Enter Exponent Number:6\n",
      "Power(Base,Exponent): 4096\n"
     ]
    }
   ],
   "source": [
    "#Power\n",
    "a=int(input(\"Enter Base Number:\"))\n",
    "b=int(input(\"Enter Exponent Number:\"))\n",
    "x=pow(a,b)\n",
    "print(\"Power(Base,Exponent):\",x)"
   ]
  },
  {
   "cell_type": "code",
   "execution_count": null,
   "metadata": {},
   "outputs": [],
   "source": []
  }
 ],
 "metadata": {
  "kernelspec": {
   "display_name": "Python 3",
   "language": "python",
   "name": "python3"
  },
  "language_info": {
   "codemirror_mode": {
    "name": "ipython",
    "version": 3
   },
   "file_extension": ".py",
   "mimetype": "text/x-python",
   "name": "python",
   "nbconvert_exporter": "python",
   "pygments_lexer": "ipython3",
   "version": "3.7.4"
  }
 },
 "nbformat": 4,
 "nbformat_minor": 2
}
