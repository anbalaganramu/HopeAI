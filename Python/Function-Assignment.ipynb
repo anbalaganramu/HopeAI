{
 "cells": [
  {
   "cell_type": "code",
   "execution_count": 1,
   "metadata": {},
   "outputs": [],
   "source": [
    "# Create a class and function, and list out the items in the list\n",
    "def Subfields():\n",
    "        aiTool=[\"Machine Learning\", \"Neural Networks\", \"Vision\", \"Robotics\", \"Speech Processing\", \"Natural Language Processing\"]\n",
    "        print(\"Sub-fields in AI are:\")\n",
    "        for temp in aiTool:    \n",
    "            print(temp)\n"
   ]
  },
  {
   "cell_type": "code",
   "execution_count": 2,
   "metadata": {},
   "outputs": [
    {
     "name": "stdout",
     "output_type": "stream",
     "text": [
      "Sub-fields in AI are:\n",
      "Machine Learning\n",
      "Neural Networks\n",
      "Vision\n",
      "Robotics\n",
      "Speech Processing\n",
      "Natural Language Processing\n"
     ]
    }
   ],
   "source": [
    "Subfields()"
   ]
  },
  {
   "cell_type": "code",
   "execution_count": 3,
   "metadata": {},
   "outputs": [],
   "source": [
    "# Create a function that checks whether the given number is Odd or Even\n",
    "def OddEven():\n",
    "        num=int(input(\"Enter a number:\"))\n",
    "        if(num%2==1):\n",
    "            print(num,\"is Odd Number\")\n",
    "        else:\n",
    "            print(num,\"is Even Number\")\n"
   ]
  },
  {
   "cell_type": "code",
   "execution_count": 4,
   "metadata": {},
   "outputs": [
    {
     "name": "stdout",
     "output_type": "stream",
     "text": [
      "Enter a number:25\n",
      "25 is Odd Number\n"
     ]
    }
   ],
   "source": [
    "OddEven()"
   ]
  },
  {
   "cell_type": "code",
   "execution_count": 5,
   "metadata": {},
   "outputs": [],
   "source": [
    "# Create a function that tells elegibility of marriage for male and female according\n",
    "# to their age limit like 21 for male and 18 for female\n",
    "def Eligible(gender,age):\n",
    "        print(\"Your gender:\", gender)\n",
    "        print(\"Your age:\", age)\n",
    "        if(gender==\"male\") and (age>=21):\n",
    "            print(\"Eligible\")\n",
    "        elif(gender==\"male\") and (age<21):\n",
    "            print(\"Not Eligible\")\n",
    "        elif(gender=='female') and (age<18):\n",
    "            print(\"Not Eligible\")\n",
    "        elif(gender=='female') and (age>18):\n",
    "            print(\"Eligible\")\n"
   ]
  },
  {
   "cell_type": "code",
   "execution_count": 35,
   "metadata": {},
   "outputs": [
    {
     "name": "stdout",
     "output_type": "stream",
     "text": [
      "Your gender: male\n",
      "Your age: 19\n",
      "Not Eligible\n"
     ]
    }
   ],
   "source": [
    "Eligible(\"male\",19)"
   ]
  },
  {
   "cell_type": "code",
   "execution_count": 24,
   "metadata": {},
   "outputs": [],
   "source": [
    "# Calculate the percentage of your 10th mark\n",
    "def percentage():\n",
    "    Sub1=int(input(\"Subject1:\"))\n",
    "    Sub2=int(input(\"Subject2:\"))\n",
    "    Sub3=int(input(\"Subject3:\"))\n",
    "    Sub4=int(input(\"Subject4:\"))\n",
    "    Sub5=int(input(\"Subject5:\"))\n",
    "    Tot=float(Sub1+Sub2+Sub3+Sub4+Sub5)\n",
    "    print(\"Total:\", Tot)\n",
    "   \n",
    "    percent=Tot/5\n",
    "    print(\"Percentage:\",percent)\n",
    "    fpercentage = \"{:.14f}\".format(percent)\n",
    "    print(\"Percentage:\",fpercentage)"
   ]
  },
  {
   "cell_type": "code",
   "execution_count": 25,
   "metadata": {},
   "outputs": [
    {
     "name": "stdout",
     "output_type": "stream",
     "text": [
      "Subject1:84\n",
      "Subject2:84\n",
      "Subject3:82\n",
      "Subject4:89\n",
      "Subject5:99\n",
      "Total: 438.0\n",
      "Percentage: 87.6\n",
      "Percentage: 87.59999999999999\n"
     ]
    }
   ],
   "source": [
    "percentage()"
   ]
  },
  {
   "cell_type": "code",
   "execution_count": 32,
   "metadata": {},
   "outputs": [],
   "source": [
    "# Print area and perimeter of triangle using class and functions\n",
    "def triangle():\n",
    "    height=int(input(\"Height:\"))\n",
    "    breadth=int(input(\"Breadth:\"))\n",
    "    area_of_traingle=(height*breadth)/2\n",
    "    print(\"Area formula: (Height*Breadth)/2\")\n",
    "    print(\"Area of Traingle:\", area_of_traingle)\n",
    "    height1=int(input(\"Height1:\"))\n",
    "    height2=int(input(\"Height2:\"))\n",
    "    breadth2=int(input(\"Breadth:\"))\n",
    "    print(\"Perimeter formula:Height1+Height2+Breadth\")\n",
    "    perimeter_of_triangle=(height1+height2+breadth2)\n",
    "    print(\"Perimeter of Trianlge:\", perimeter_of_triangle)"
   ]
  },
  {
   "cell_type": "code",
   "execution_count": 33,
   "metadata": {},
   "outputs": [
    {
     "name": "stdout",
     "output_type": "stream",
     "text": [
      "Height:32\n",
      "Breadth:34\n",
      "Area formula: (Height*Breadth)/2\n",
      "Area of Traingle: 544.0\n",
      "Height1:2\n",
      "Height2:4\n",
      "Breadth:4\n",
      "Perimeter formula:Height1+Height2+Breadth\n",
      "Perimeter of Trianlge: 10\n"
     ]
    }
   ],
   "source": [
    "triangle()"
   ]
  },
  {
   "cell_type": "code",
   "execution_count": null,
   "metadata": {},
   "outputs": [],
   "source": []
  }
 ],
 "metadata": {
  "kernelspec": {
   "display_name": "Python 3",
   "language": "python",
   "name": "python3"
  },
  "language_info": {
   "codemirror_mode": {
    "name": "ipython",
    "version": 3
   },
   "file_extension": ".py",
   "mimetype": "text/x-python",
   "name": "python",
   "nbconvert_exporter": "python",
   "pygments_lexer": "ipython3",
   "version": "3.7.4"
  }
 },
 "nbformat": 4,
 "nbformat_minor": 2
}
